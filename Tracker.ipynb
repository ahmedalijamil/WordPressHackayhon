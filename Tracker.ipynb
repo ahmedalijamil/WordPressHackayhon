{
  "nbformat": 4,
  "nbformat_minor": 0,
  "metadata": {
    "colab": {
      "provenance": [],
      "authorship_tag": "ABX9TyORHNF+tT9igI6FpdFlYxSb",
      "include_colab_link": true
    },
    "kernelspec": {
      "name": "python3",
      "display_name": "Python 3"
    },
    "language_info": {
      "name": "python"
    }
  },
  "cells": [
    {
      "cell_type": "markdown",
      "metadata": {
        "id": "view-in-github",
        "colab_type": "text"
      },
      "source": [
        "<a href=\"https://colab.research.google.com/github/umaimafawad711-code/hackathon/blob/main/Tracker.ipynb\" target=\"_parent\"><img src=\"https://colab.research.google.com/assets/colab-badge.svg\" alt=\"Open In Colab\"/></a>"
      ]
    },
    {
      "cell_type": "code",
      "source": [
        "# ---------------- Step 0: Imports ----------------\n",
        "import pandas as pd\n",
        "from datetime import datetime, timedelta\n",
        "import os\n"
      ],
      "metadata": {
        "id": "TRhMvH-6Q_qp"
      },
      "execution_count": 14,
      "outputs": []
    },
    {
      "cell_type": "code",
      "source": [
        "# ---------------- Step 1: Load Medicine Data ----------------\n",
        "CSV_PATH = \"Medicine.csv\"\n",
        "\n",
        "# Create a sample medicine CSV if it doesn't exist (with your actual medicine list)\n",
        "if not os.path.exists(CSV_PATH):\n",
        "    medicine_list = [\n",
        "        \"Avastin 400mg Injection\", \"Augmentin 625 Duo Tablet\", \"Azithral 500 Tablet\",\n",
        "        \"Ascoril LS Syrup\", \"Aciloc 150 Tablet\", \"Allegra 120mg Tablet\", \"Avil 25 Tablet\",\n",
        "        \"Aricep 5 Tablet\", \"Amoxyclav 625 Tablet\", \"Atarax 25mg Tablet\", \"Azee 500 Tablet\",\n",
        "        \"Anovate Cream\", \"Allegra-M Tablet\", \"Ascoril D Plus Syrup Sugar Free\", \"Alex Syrup\",\n",
        "        \"Armotraz Tablet\", \"Augmentin Duo Oral Suspension\", \"Albendazole 400mg Tablet\",\n",
        "        \"Arkamin Tablet\", \"Allegra 180mg Tablet\", \"Altraday Capsule SR\", \"Atarax 10mg Tablet\",\n",
        "        \"Aldigesic-SP Tablet\", \"Aldactone Tablet\", \"Aricep 10 Tablet\", \"Aricep-M Tablet\",\n",
        "        \"Andre I-Kul Eye Drop\", \"Anafortan 25 mg/300 mg Tablet\", \"Atarax Syrup\", \"Ambrodil-S Syrup\"\n",
        "    ]\n",
        "    df = pd.DataFrame({\n",
        "        \"Medicine Name\": medicine_list,\n",
        "        \"Type\": [\"Tablet\",\"Tablet\",\"Tablet\",\"Syrup\",\"Tablet\",\"Tablet\",\"Tablet\",\n",
        "                 \"Tablet\",\"Tablet\",\"Tablet\",\"Tablet\",\"Cream\",\"Tablet\",\"Syrup\",\"Syrup\",\n",
        "                 \"Tablet\",\"Suspension\",\"Tablet\",\"Tablet\",\"Tablet\",\"Capsule\",\"Tablet\",\n",
        "                 \"Tablet\",\"Tablet\",\"Tablet\",\"Tablet\",\"Eye Drop\",\"Tablet\",\"Syrup\",\"Syrup\"],\n",
        "        \"Dose\": [\"\"]*30,\n",
        "        \"Stock\": [10]*30,\n",
        "        \"Start Date\": [datetime.now().strftime(\"%Y-%m-%d\")]*30,\n",
        "        \"End Date\": [(datetime.now() + timedelta(days=30)).strftime(\"%Y-%m-%d\")]*30\n",
        "    })\n",
        "    df.to_csv(CSV_PATH, index=False)\n",
        "\n",
        "# Load medicine CSV\n",
        "df = pd.read_csv(CSV_PATH)\n",
        "print(\"📋 Medicine Data Loaded:\")\n",
        "print(df.head())\n"
      ],
      "metadata": {
        "colab": {
          "base_uri": "https://localhost:8080/"
        },
        "id": "r6z03VAIfKb3",
        "outputId": "998788b9-ac13-4537-b281-5790791cf615"
      },
      "execution_count": 15,
      "outputs": [
        {
          "output_type": "stream",
          "name": "stdout",
          "text": [
            "📋 Medicine Data Loaded:\n",
            "   ID             Medicine Name  \\\n",
            "0   1   Avastin 400mg Injection   \n",
            "1   2  Augmentin 625 Duo Tablet   \n",
            "2   3       Azithral 500 Tablet   \n",
            "3   4          Ascoril LS Syrup   \n",
            "4   5         Aciloc 150 Tablet   \n",
            "\n",
            "                                         Composition  \\\n",
            "0                                Bevacizumab (400mg)   \n",
            "1    Amoxycillin  (500mg) +  Clavulanic Acid (125mg)   \n",
            "2                               Azithromycin (500mg)   \n",
            "3  Ambroxol (30mg/5ml) + Levosalbutamol (1mg/5ml)...   \n",
            "4                                 Ranitidine (150mg)   \n",
            "\n",
            "                                                Uses  \\\n",
            "0   Cancer of colon and rectum Non-small cell lun...   \n",
            "1                  Treatment of Bacterial infections   \n",
            "2                  Treatment of Bacterial infections   \n",
            "3                      Treatment of Cough with mucus   \n",
            "4  Treatment of Gastroesophageal reflux disease (...   \n",
            "\n",
            "                                        Side_effects  \\\n",
            "0  Rectal bleeding Taste change Headache Noseblee...   \n",
            "1  Vomiting Nausea Diarrhea Mucocutaneous candidi...   \n",
            "2                     Nausea Abdominal pain Diarrhea   \n",
            "3  Nausea Vomiting Diarrhea Upset stomach Stomach...   \n",
            "4     Headache Diarrhea Gastrointestinal disturbance   \n",
            "\n",
            "                                           Image URL  \\\n",
            "0  https://onemg.gumlet.io/l_watermark_346,w_480,...   \n",
            "1  https://onemg.gumlet.io/l_watermark_346,w_480,...   \n",
            "2  https://onemg.gumlet.io/l_watermark_346,w_480,...   \n",
            "3  https://onemg.gumlet.io/l_watermark_346,w_480,...   \n",
            "4  https://onemg.gumlet.io/l_watermark_346,w_480,...   \n",
            "\n",
            "                           Manufacturer  Excellent Review %  Average Review %  \\\n",
            "0          Roche Products India Pvt Ltd                  22                56   \n",
            "1  Glaxo SmithKline Pharmaceuticals Ltd                  47                35   \n",
            "2           Alembic Pharmaceuticals Ltd                  39                40   \n",
            "3          Glenmark Pharmaceuticals Ltd                  24                41   \n",
            "4            Cadila Pharmaceuticals Ltd                  34                37   \n",
            "\n",
            "   Poor Review %                  Dosage   Frequency  Start_Date    End_Date  \\\n",
            "0             22     1 Injection (400mg)  Once daily  22/09/2025  07/10/2025   \n",
            "1             18  2 Tablets (250mg each)      Weekly  23/09/2025  28/09/2025   \n",
            "2             21     1 Injection (400mg)      Weekly  23/09/2025  06/10/2025   \n",
            "3             35  2 Tablets (250mg each)      Weekly  23/09/2025  30/09/2025   \n",
            "4             29        1 Tablet (500mg)      Weekly  25/09/2025  03/10/2025   \n",
            "\n",
            "                 Time_of_Day    Status   Patient Name  \\\n",
            "0             Morning, Night  Upcoming       Ali Khan   \n",
            "1                      Night    Missed     Sara Malik   \n",
            "2  Morning, Afternoon, Night    Missed    Hassan Raza   \n",
            "3                      Night     Taken   Ayesha Ahmed   \n",
            "4                    Morning    Missed  Bilal Hussain   \n",
            "\n",
            "                                             Disease  Stock  \n",
            "0   Cancer of colon and rectum Non-small cell lun...     11  \n",
            "1                               Bacterial infections     24  \n",
            "2                               Bacterial infections     19  \n",
            "3                                   Cough with mucus     15  \n",
            "4  Gastroesophageal reflux disease (Acid reflux)P...     12  \n"
          ]
        }
      ]
    },
    {
      "cell_type": "code",
      "source": [
        "# ---------------- Step 2: Stock Check ----------------\n",
        "def check_stock(data):\n",
        "    data[\"Stock\"] = pd.to_numeric(data[\"Stock\"], errors='coerce')\n",
        "    for _, row in data.iterrows():\n",
        "        med_name = row[\"Medicine Name\"]\n",
        "        stock = row[\"Stock\"]\n",
        "        if stock < 5:\n",
        "            print(f\"⚠️ Low stock: {med_name} → Only {stock} left\")\n",
        "        else:\n",
        "            print(f\"✅ Stock OK: {med_name} → {stock} left\")"
      ],
      "metadata": {
        "id": "UpEg93T5ff0e"
      },
      "execution_count": 16,
      "outputs": []
    },
    {
      "cell_type": "code",
      "source": [
        "# ---------------- Step 3: Record Medicine Taken ----------------\n",
        "def record_medicine_taken(medicine_name, notes=\"\"):\n",
        "    now = datetime.now()\n",
        "    taken_record = {\n",
        "        \"Medicine Name\": medicine_name,\n",
        "        \"Date\": now.strftime(\"%Y-%m-%d\"),\n",
        "        \"Time\": now.strftime(\"%H:%M\"),\n",
        "        \"Notes\": notes\n",
        "    }\n",
        "\n",
        "    # Append to CSV\n",
        "    try:\n",
        "        taken_df = pd.read_csv(\"Medicine_Taken.csv\")\n",
        "        taken_df = pd.concat([taken_df, pd.DataFrame([taken_record])], ignore_index=True)\n",
        "    except FileNotFoundError:\n",
        "        taken_df = pd.DataFrame([taken_record])\n",
        "\n",
        "    taken_df.to_csv(\"Medicine_Taken.csv\", index=False)\n",
        "    print(f\"✅ Recorded: {medicine_name} at {taken_record['Time']} on {taken_record['Date']}\")\n",
        "    if notes:\n",
        "        print(f\"📝 Notes: {notes}\")\n"
      ],
      "metadata": {
        "id": "DCmqWcBCfh-j"
      },
      "execution_count": 17,
      "outputs": []
    },
    {
      "cell_type": "code",
      "source": [
        "# ---------------- Step 4: Take Medicine & Update Stock ----------------\n",
        "def take_medicine(data, medicine_name, notes=\"\"):\n",
        "    if medicine_name not in data[\"Medicine Name\"].values:\n",
        "        print(f\"❌ Medicine '{medicine_name}' not in your list!\")\n",
        "        return\n",
        "\n",
        "    row = data[data[\"Medicine Name\"] == medicine_name].iloc[0]\n",
        "    start_date = pd.to_datetime(row[\"Start_Date\"], dayfirst=True).date()\n",
        "    end_date = pd.to_datetime(row[\"End_Date\"], dayfirst=True).date()\n",
        "    today = datetime.now().date()\n",
        "\n",
        "    if not (start_date <= today <= end_date):\n",
        "        print(f\"❌ Medicine '{medicine_name}' not scheduled for today!\")\n",
        "        return\n",
        "\n",
        "    record_medicine_taken(medicine_name, notes)\n",
        "    data.loc[data[\"Medicine Name\"] == medicine_name, \"Stock\"] -= 1\n",
        "    data.to_csv(CSV_PATH, index=False)\n",
        "\n",
        "    stock = data.loc[data[\"Medicine Name\"] == medicine_name, \"Stock\"].values[0]\n",
        "    if stock < 5:\n",
        "        print(f\"⚠️ Low stock warning: {medicine_name} → Only {stock} left\")\n",
        "    else:\n",
        "        print(f\"✅ Stock updated: {medicine_name} → {stock} left\")\n"
      ],
      "metadata": {
        "id": "oJjMHEyGfyDN"
      },
      "execution_count": 18,
      "outputs": []
    },
    {
      "cell_type": "code",
      "source": [
        "\n",
        "# ---------------- Step 5: Reports / History ----------------\n",
        "def show_report(start_date=None, end_date=None):\n",
        "    try:\n",
        "        taken_df = pd.read_csv(\"Medicine_Taken.csv\")\n",
        "    except FileNotFoundError:\n",
        "        print(\"❌ No medicine taken records found!\")\n",
        "        return\n",
        "\n",
        "    taken_df[\"Date\"] = pd.to_datetime(taken_df[\"Date\"])\n",
        "    if start_date:\n",
        "        start_date = pd.to_datetime(start_date)\n",
        "    else:\n",
        "        start_date = taken_df[\"Date\"].min()\n",
        "    if end_date:\n",
        "        end_date = pd.to_datetime(end_date)\n",
        "    else:\n",
        "        end_date = taken_df[\"Date\"].max()\n",
        "\n",
        "    filtered = taken_df[(taken_df[\"Date\"] >= start_date) & (taken_df[\"Date\"] <= end_date)]\n",
        "\n",
        "    print(f\"\\n📋 Medicines taken from {start_date.date()} to {end_date.date()}:\")\n",
        "    if filtered.empty:\n",
        "        print(\"No records found in this period.\")\n",
        "    else:\n",
        "        print(filtered.to_string(index=False))\n",
        "\n",
        "# ---------------- Example Usage ----------------\n",
        "check_stock(df)  # Step 2: Check stock\n",
        "take_medicine(df, \"Alex Syrup\", notes=\"After breakfast\")  # Step 4: Take medicine\n",
        "show_report(\"2025-09-20\", \"2025-09-27\")  # Step 5: Report"
      ],
      "metadata": {
        "colab": {
          "base_uri": "https://localhost:8080/"
        },
        "id": "gwj6GNY_fzo4",
        "outputId": "ae8c8280-6522-4679-b2d2-f13e19f4cb92"
      },
      "execution_count": 19,
      "outputs": [
        {
          "output_type": "stream",
          "name": "stdout",
          "text": [
            "✅ Stock OK: Avastin 400mg Injection → 11 left\n",
            "✅ Stock OK: Augmentin 625 Duo Tablet → 24 left\n",
            "✅ Stock OK: Azithral 500 Tablet → 19 left\n",
            "✅ Stock OK: Ascoril LS Syrup → 15 left\n",
            "✅ Stock OK: Aciloc 150 Tablet → 12 left\n",
            "✅ Stock OK: Allegra 120mg Tablet → 25 left\n",
            "✅ Stock OK: Avil 25 Tablet → 11 left\n",
            "✅ Stock OK: Aricep 5 Tablet → 30 left\n",
            "✅ Stock OK: Amoxyclav 625 Tablet → 23 left\n",
            "✅ Stock OK: Atarax 25mg Tablet → 27 left\n",
            "✅ Stock OK: Azee 500 Tablet → 15 left\n",
            "✅ Stock OK: Anovate Cream → 15 left\n",
            "✅ Stock OK: Allegra-M Tablet → 28 left\n",
            "✅ Stock OK: Ascoril D Plus Syrup Sugar Free → 25 left\n",
            "✅ Stock OK: Alex Syrup → 8 left\n",
            "✅ Stock OK: Armotraz Tablet → 12 left\n",
            "✅ Stock OK: Augmentin Duo Oral Suspension → 28 left\n",
            "✅ Stock OK: Albendazole 400mg Tablet → 7 left\n",
            "✅ Stock OK: Arkamin Tablet → 26 left\n",
            "✅ Stock OK: Allegra 180mg Tablet → 25 left\n",
            "✅ Stock OK: Altraday Capsule SR → 6 left\n",
            "✅ Stock OK: Atarax 10mg Tablet → 28 left\n",
            "✅ Stock OK: Aldigesic-SP Tablet → 16 left\n",
            "✅ Stock OK: Aldactone Tablet → 10 left\n",
            "✅ Stock OK: Aricep 10 Tablet → 6 left\n",
            "✅ Stock OK: Aricep-M  Tablet → 25 left\n",
            "✅ Stock OK: Andre I-Kul Eye Drop → 5 left\n",
            "✅ Stock OK: Anafortan 25 mg/300 mg Tablet → 16 left\n",
            "✅ Stock OK: Atarax Syrup → 30 left\n",
            "✅ Stock OK: Ambrodil-S Syrup → 26 left\n",
            "❌ Medicine 'Alex Syrup' not scheduled for today!\n",
            "❌ No medicine taken records found!\n"
          ]
        }
      ]
    },
    {
      "cell_type": "code",
      "source": [
        "# Step:6.........Predict stock running out\n",
        "import pandas as pd\n",
        "from datetime import datetime\n",
        "\n",
        "# Load medicine taken records\n",
        "taken_df = pd.read_csv(\"Medicine.csv\")\n",
        "taken_df[\"Date\"] = pd.to_datetime(taken_df[\"Start_Date\"])\n",
        "\n",
        "# Example: predict for a specific medicine\n",
        "medicine_name = \"Alex Syrup\"\n",
        "medicine_history = taken_df[taken_df[\"Medicine Name\"] == medicine_name]\n",
        "\n",
        "if medicine_history.empty:\n",
        "    print(f\"No data to predict for {medicine_name}\")\n",
        "else:\n",
        "    # Count doses per day\n",
        "    daily_count = medicine_history.groupby(\"Date\").size()\n",
        "    avg_daily_consumption = daily_count.mean()\n",
        "\n",
        "    # Get current stock\n",
        "    current_stock = df.loc[df[\"Medicine Name\"] == medicine_name, \"Stock\"].values[0]\n",
        "\n",
        "    # Predict days until stock runs out\n",
        "    if avg_daily_consumption > 0:\n",
        "        days_left = current_stock / avg_daily_consumption\n",
        "        print(f\"📊 Prediction: {medicine_name} will run out in ~{days_left:.1f} days\")\n",
        "    else:\n",
        "        print(f\"{medicine_name} has not been taken yet, cannot predict stock depletion\")\n"
      ],
      "metadata": {
        "colab": {
          "base_uri": "https://localhost:8080/"
        },
        "id": "wl9xsTBsh90U",
        "outputId": "181119cc-3d7e-4598-e50f-659df92afe96"
      },
      "execution_count": 25,
      "outputs": [
        {
          "output_type": "stream",
          "name": "stdout",
          "text": [
            "📊 Prediction: Alex Syrup will run out in ~8.0 days\n"
          ]
        },
        {
          "output_type": "stream",
          "name": "stderr",
          "text": [
            "/tmp/ipython-input-781644465.py:7: UserWarning: Parsing dates in %d/%m/%Y format when dayfirst=False (the default) was specified. Pass `dayfirst=True` or specify a format to silence this warning.\n",
            "  taken_df[\"Date\"] = pd.to_datetime(taken_df[\"Start_Date\"])\n"
          ]
        }
      ]
    },
    {
      "cell_type": "code",
      "source": [
        "# Step: Get all medicine info for a specific patient\n",
        "patient_name = \"Imran Ali\"\n",
        "\n",
        "# Filter rows for this patient\n",
        "patient_data = df[df[\"Patient Name\"] == patient_name]\n",
        "\n",
        "# Display information\n",
        "if patient_data.empty:\n",
        "    print(f\"❌ No records found for patient '{patient_name}'\")\n",
        "else:\n",
        "    print(f\"📋 Medicine info for {patient_name}:\")\n",
        "    print(patient_data.to_string(index=False))"
      ],
      "metadata": {
        "colab": {
          "base_uri": "https://localhost:8080/"
        },
        "id": "OyxogPkdbkt2",
        "outputId": "5edaecb2-1e25-4d69-90f6-bd5305fd5065"
      },
      "execution_count": 20,
      "outputs": [
        {
          "output_type": "stream",
          "name": "stdout",
          "text": [
            "📋 Medicine info for Imran Ali:\n",
            " ID   Medicine Name          Composition                              Uses                   Side_effects                                                                                                                     Image URL Manufacturer  Excellent Review %  Average Review %  Poor Review %                 Dosage  Frequency Start_Date   End_Date Time_of_Day Status Patient Name              Disease  Stock\n",
            " 11 Azee 500 Tablet Azithromycin (500mg) Treatment of Bacterial infections Nausea Abdominal pain Diarrhea https://onemg.gumlet.io/l_watermark_346,w_480,h_480/a_ignore,w_480,h_480,c_fit,q_auto,f_auto/cropped/jbpnjvst3ph0xnrq199o.jpg    Cipla Ltd                  37                38             25 2 Tablets (250mg each) Once daily 21/09/2025 26/09/2025       Night Missed    Imran Ali Bacterial infections     15\n"
          ]
        }
      ]
    },
    {
      "cell_type": "code",
      "source": [
        "# Step: Get patient info from medicine name\n",
        "medicine_name = \"Alex Syrup\"  # Replace with the medicine you know\n",
        "\n",
        "# Filter the data for this medicine\n",
        "med_data = df[df[\"Medicine Name\"] == medicine_name]\n",
        "\n",
        "if med_data.empty:\n",
        "    print(f\"❌ No records found for medicine '{medicine_name}'\")\n",
        "else:\n",
        "    # Show only patient name, start date, end date, and stock\n",
        "    print(med_data[[\"Patient Name\", \"Start_Date\", \"End_Date\", \"Stock\"]].to_string(index=False))\n"
      ],
      "metadata": {
        "colab": {
          "base_uri": "https://localhost:8080/"
        },
        "id": "1pNp5uGeeRz4",
        "outputId": "06165812-6b96-4486-e3e1-5ab76a9a5b29"
      },
      "execution_count": 21,
      "outputs": [
        {
          "output_type": "stream",
          "name": "stdout",
          "text": [
            "  Patient Name Start_Date   End_Date  Stock\n",
            "Kashif Mehmood 21/09/2025 26/09/2025      8\n"
          ]
        }
      ]
    },
    {
      "cell_type": "code",
      "source": [],
      "metadata": {
        "id": "VLeh4OL4hZfJ"
      },
      "execution_count": null,
      "outputs": []
    }
  ]
}